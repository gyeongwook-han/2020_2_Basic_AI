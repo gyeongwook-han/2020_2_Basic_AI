{
 "cells": [
  {
   "cell_type": "markdown",
   "id": "76dfb14d",
   "metadata": {},
   "source": [
    "### [깃헙 링크] : https://github.com/gyeongwook-han/SMU_SW_AI_DeepLearning\n",
    "#### 상명대학교 SW중심사업단 AI심화트랙 소속 201611144 게임학과 한경욱\n",
    "\n",
    "# 나만의 CNN 으로 MNIST 예측하기\n",
    "#### [실습05] 합성곱 신경망"
   ]
  },
  {
   "cell_type": "markdown",
   "id": "0b358632",
   "metadata": {},
   "source": [
    "# Load packages"
   ]
  },
  {
   "cell_type": "code",
   "execution_count": 1,
   "id": "6be9de9a",
   "metadata": {},
   "outputs": [],
   "source": [
    "import torch\n",
    "import torch.nn as nn\n",
    "import torchvision.datasets as dset\n",
    "import torchvision.transforms as transforms\n",
    "from torch.utils.data import DataLoader\n",
    "from torch.autograd import Variable\n",
    "import matplotlib.pyplot as plt\n",
    "%matplotlib inline"
   ]
  },
  {
   "cell_type": "markdown",
   "id": "95a0b8b4",
   "metadata": {},
   "source": [
    "# MNIST train, test dataset 가져오기"
   ]
  },
  {
   "cell_type": "code",
   "execution_count": 3,
   "id": "844d3b55",
   "metadata": {},
   "outputs": [],
   "source": [
    "mnist_train = dset.MNIST(\"\", train = True, transform = transforms.ToTensor(),\n",
    "                        target_transform = None, download = True)\n",
    "mnist_test = dset.MNIST(\"\", train = False, transform = transforms.ToTensor(),\n",
    "                        target_transform = None, download = True)"
   ]
  },
  {
   "cell_type": "markdown",
   "id": "5b4f3b81",
   "metadata": {},
   "source": [
    "# 데이터 형태 미리보기"
   ]
  },
  {
   "cell_type": "code",
   "execution_count": 7,
   "id": "f5936f5c",
   "metadata": {},
   "outputs": [
    {
     "name": "stdout",
     "output_type": "stream",
     "text": [
      "mnist_train 길이:  60000\n",
      "mnist_test 길이:  10000\n",
      "image data 형태: torch.Size([1, 28, 28])\n",
      "label:  5\n"
     ]
    },
    {
     "data": {
      "image/png": "[encoded data removed]",
      "text/plain": [
       "<Figure size 432x288 with 1 Axes>"
      ]
     },
     "metadata": {
      "needs_background": "light"
     },
     "output_type": "display_data"
    }
   ],
   "source": [
    "print \"mnist_train 길이: \", len(mnist_train)\n",
    "print \"mnist_test 길이: \", len(mnist_test)\n",
    "\n",
    "image, label = mnist_train.__getitem__(0)\n",
    "print \"image data 형태:\", image.size()\n",
    "print \"label: \", label\n",
    "\n",
    "img = image.numpy()\n",
    "plt.title(\"label: %d\" %label)\n",
    "plt.imshow(img[0], cmap = \"gray\")\n",
    "plt.show()"
   ]
  },
  {
   "cell_type": "markdown",
   "id": "149b85f8",
   "metadata": {},
   "source": [
    "# MNIST data 띄워보기"
   ]
  },
  {
   "cell_type": "code",
   "execution_count": 8,
   "id": "a6be5d75",
   "metadata": {},
   "outputs": [
    {
     "name": "stdout",
     "output_type": "stream",
     "text": [
      "5\n",
      "torch.Size([1, 28, 28])\n",
      "5\n"
     ]
    },
    {
     "data": {
      "image/png": "[encoded data removed]",
      "text/plain": [
       "<Figure size 432x288 with 1 Axes>"
      ]
     },
     "metadata": {
      "needs_background": "light"
     },
     "output_type": "display_data"
    },
    {
     "name": "stdout",
     "output_type": "stream",
     "text": [
      "0\n"
     ]
    },
    {
     "data": {
      "image/png": "[encoded data removed]",
      "text/plain": [
       "<Figure size 432x288 with 1 Axes>"
      ]
     },
     "metadata": {
      "needs_background": "light"
     },
     "output_type": "display_data"
    },
    {
     "name": "stdout",
     "output_type": "stream",
     "text": [
      "4\n"
     ]
    },
    {
     "data": {
      "image/png": "[encoded data removed]",
      "text/plain": [
       "<Figure size 432x288 with 1 Axes>"
      ]
     },
     "metadata": {
      "needs_background": "light"
     },
     "output_type": "display_data"
    }
   ],
   "source": [
    "print(mnist_train[0][1])\n",
    "print(mnist_train[0][0].size())\n",
    "\n",
    "for i in range(3):\n",
    "    img = mnist_train[i][0].numpy()\n",
    "    print(mnist_train[i][1])\n",
    "    plt.imshow(img[0],cmap =\"gray\")\n",
    "    plt.show()"
   ]
  },
  {
   "cell_type": "markdown",
   "id": "39743a4d",
   "metadata": {},
   "source": [
    "# Convolution 하나 씌워보기"
   ]
  },
  {
   "cell_type": "code",
   "execution_count": 9,
   "id": "2e83829d",
   "metadata": {},
   "outputs": [
    {
     "name": "stdout",
     "output_type": "stream",
     "text": [
      "torch.Size([1, 1, 28, 28])\n",
      "5\n",
      "torch.Size([1, 3, 28, 28])\n"
     ]
    },
    {
     "data": {
      "image/png": "[encoded data removed]",
      "text/plain": [
       "<Figure size 432x288 with 1 Axes>"
      ]
     },
     "metadata": {
      "needs_background": "light"
     },
     "output_type": "display_data"
    },
    {
     "data": {
      "image/png": "[encoded data removed]",
      "text/plain": [
       "<Figure size 432x288 with 1 Axes>"
      ]
     },
     "metadata": {
      "needs_background": "light"
     },
     "output_type": "display_data"
    },
    {
     "data": {
      "image/png": "[encoded data removed]",
      "text/plain": [
       "<Figure size 432x288 with 1 Axes>"
      ]
     },
     "metadata": {
      "needs_background": "light"
     },
     "output_type": "display_data"
    }
   ],
   "source": [
    "image, label = mnist_train[0]\n",
    "image = image.view(-1,image.size()[0], image.size()[1], image.size()[2])\n",
    "print(image.size())\n",
    "\n",
    "print label\n",
    "\n",
    "conv_layer=nn.Conv2d(in_channels = 1, out_channels = 3, kernel_size = 3, padding = 1)\n",
    "output = conv_layer(Variable(image))\n",
    "print(output.size())\n",
    "\n",
    "for i in range(3):\n",
    "    plt.imshow(output[0,i,:,:].data.numpy(), cmap = \"gray\")\n",
    "    plt.show()"
   ]
  },
  {
   "cell_type": "markdown",
   "id": "1ee78ede",
   "metadata": {},
   "source": [
    "# CNN 만들기\n",
    "\n",
    "### train, test data 가져오기"
   ]
  },
  {
   "cell_type": "code",
   "execution_count": 10,
   "id": "92999c15",
   "metadata": {},
   "outputs": [],
   "source": [
    "import numpy as np\n",
    "import torch.optim as optim\n",
    "\n",
    "batch_size = 16\n",
    "learning_rate = 0.0002\n",
    "num_epoch = 10"
   ]
  },
  {
   "cell_type": "code",
   "execution_count": 11,
   "id": "02936844",
   "metadata": {},
   "outputs": [],
   "source": [
    "train_loader = torch.utils.data.DataLoader(list(mnist_train)[:batch_size*100],batch_size = batch_size,\n",
    "                                           shuffle = True, num_workers= 2, drop_last =True)\n",
    "test_loader = torch.utils.data.DataLoader((mnist_test),batch_size = batch_size,\n",
    "                                          shuffle = True, num_workers= 2, drop_last =True)"
   ]
  },
  {
   "cell_type": "markdown",
   "id": "04889044",
   "metadata": {},
   "source": [
    "# CNN 클래스 만들기: 모델 구현"
   ]
  },
  {
   "cell_type": "code",
   "execution_count": 14,
   "id": "edaa80b5",
   "metadata": {},
   "outputs": [],
   "source": [
    "class CNN(nn.Module):\n",
    "    def __init__(self):\n",
    "        super(CNN,self).__init__()\n",
    "        self.layer = nn.Sequential(\n",
    "            nn.Conv2d(1,16,5,padding= 2),\n",
    "            nn.ReLU(),\n",
    "            \n",
    "            nn.Conv2d(16,32,5,padding= 2),\n",
    "            nn.ReLU(),\n",
    "            nn.MaxPool2d(2,2),\n",
    "            \n",
    "            nn.Conv2d(32,64,5,padding= 2),\n",
    "            nn.ReLU(),\n",
    "            nn.MaxPool2d(2,2)\n",
    "        )\n",
    "        self.fc_layer=nn.Sequential(\n",
    "        nn.Linear(64*7*7, 100),\n",
    "        nn.ReLU(),\n",
    "        nn.Linear(100,10)\n",
    "        )\n",
    "        \n",
    "    def forward(self,x):\n",
    "        out = self.layer(x)\n",
    "        out = out.view(batch_size, -1)\n",
    "        out = self.fc_layer(out)\n",
    "        return out\n",
    "    \n",
    "model = CNN()"
   ]
  },
  {
   "cell_type": "markdown",
   "id": "61e90e75",
   "metadata": {},
   "source": [
    "# 파라미터 체크"
   ]
  },
  {
   "cell_type": "code",
   "execution_count": 15,
   "id": "3c6d21a1",
   "metadata": {},
   "outputs": [
    {
     "name": "stdout",
     "output_type": "stream",
     "text": [
      "torch.Size([16, 1, 5, 5])\n",
      "torch.Size([16])\n",
      "torch.Size([32, 16, 5, 5])\n",
      "torch.Size([32])\n",
      "torch.Size([64, 32, 5, 5])\n",
      "torch.Size([64])\n",
      "torch.Size([100, 3136])\n",
      "torch.Size([100])\n",
      "torch.Size([10, 100])\n",
      "torch.Size([10])\n"
     ]
    }
   ],
   "source": [
    "for parameter in model.parameters():\n",
    "    print(parameter.shape)"
   ]
  },
  {
   "cell_type": "code",
   "execution_count": 16,
   "id": "54613a65",
   "metadata": {},
   "outputs": [],
   "source": [
    "loss_func = nn.CrossEntropyLoss()\n",
    "optimizer = torch.optim.Adam(model.parameters(), lr=learning_rate)"
   ]
  },
  {
   "cell_type": "code",
   "execution_count": 24,
   "id": "24482d70",
   "metadata": {},
   "outputs": [
    {
     "name": "stdout",
     "output_type": "stream",
     "text": [
      "(tensor(0.0106, grad_fn=<NllLossBackward>), 0, 0)\n",
      "(tensor(0.3349, grad_fn=<NllLossBackward>), 50, 0)\n",
      "(tensor(0.0087, grad_fn=<NllLossBackward>), 0, 1)\n",
      "(tensor(0.0009, grad_fn=<NllLossBackward>), 50, 1)\n",
      "(tensor(0.0015, grad_fn=<NllLossBackward>), 0, 2)\n",
      "(tensor(0.2613, grad_fn=<NllLossBackward>), 50, 2)\n",
      "(tensor(0.0011, grad_fn=<NllLossBackward>), 0, 3)\n",
      "(tensor(0.0316, grad_fn=<NllLossBackward>), 50, 3)\n",
      "(tensor(0.0099, grad_fn=<NllLossBackward>), 0, 4)\n",
      "(tensor(0.0042, grad_fn=<NllLossBackward>), 50, 4)\n",
      "(tensor(0.0004, grad_fn=<NllLossBackward>), 0, 5)\n",
      "(tensor(0.0011, grad_fn=<NllLossBackward>), 50, 5)\n",
      "(tensor(0.0034, grad_fn=<NllLossBackward>), 0, 6)\n",
      "(tensor(0.0022, grad_fn=<NllLossBackward>), 50, 6)\n",
      "(tensor(0.0083, grad_fn=<NllLossBackward>), 0, 7)\n",
      "(tensor(0.0022, grad_fn=<NllLossBackward>), 50, 7)\n",
      "(tensor(0.0006, grad_fn=<NllLossBackward>), 0, 8)\n",
      "(tensor(0.0006, grad_fn=<NllLossBackward>), 50, 8)\n",
      "(tensor(0.0012, grad_fn=<NllLossBackward>), 0, 9)\n",
      "(tensor(0.0005, grad_fn=<NllLossBackward>), 50, 9)\n"
     ]
    }
   ],
   "source": [
    "model.train()\n",
    "\n",
    "for i in range(num_epoch):\n",
    "    for j, [image, label] in enumerate(train_loader):\n",
    "        x = Variable(image)\n",
    "        y_ = Variable(label)\n",
    "        \n",
    "        optimizer.zero_grad()\n",
    "        output = model.forward(x)\n",
    "        loss = loss_func(output,y_)\n",
    "        loss.backward()\n",
    "        optimizer.step()\n",
    "        \n",
    "        if j%50 == 0:\n",
    "            print(loss,j,i)"
   ]
  },
  {
   "cell_type": "code",
   "execution_count": 18,
   "id": "3951c834",
   "metadata": {},
   "outputs": [
    {
     "name": "stderr",
     "output_type": "stream",
     "text": [
      "/home/ec2-user/anaconda3/envs/pytorch_p27/lib/python2.7/site-packages/torch/serialization.py:360: UserWarning: Couldn't retrieve source code for container of type CNN. It won't be checked for correctness upon loading.\n",
      "  \"type \" + obj.__name__ + \". It won't be checked \"\n"
     ]
    }
   ],
   "source": [
    "torch.save(model, 'nets/mycnn_model_%d.pkl'%(num_epoch))"
   ]
  },
  {
   "cell_type": "code",
   "execution_count": 21,
   "id": "4e766ffa",
   "metadata": {},
   "outputs": [],
   "source": [
    "def ComputeAccr(dloader, imodel):\n",
    "    correct = 0\n",
    "    total = 0\n",
    "    \n",
    "    for j, [imgs,labels] in enumerate(dloader):\n",
    "        img = Variable(imgs)\n",
    "        label = Variable(labels)\n",
    "        \n",
    "        output = imodel.forward(img)\n",
    "        _, output_index = torch.max(output,1)\n",
    "        \n",
    "        total += label.size(0)\n",
    "        correct += (output_index == label).sum().float()\n",
    "    print(\"Accuracy of Test Data: {}\".format(100*correct/total))"
   ]
  },
  {
   "cell_type": "code",
   "execution_count": 25,
   "id": "b93b97c7",
   "metadata": {},
   "outputs": [
    {
     "name": "stdout",
     "output_type": "stream",
     "text": [
      "Accuracy of Test Data: 95.4599990845\n"
     ]
    }
   ],
   "source": [
    "model.eval()\n",
    "ComputeAccr(test_loader, model)"
   ]
  },
  {
   "cell_type": "code",
   "execution_count": 26,
   "id": "c93ef8bb",
   "metadata": {},
   "outputs": [],
   "source": [
    "torch.save(model, 'nets/mycnn_model_%d.pkl'%(num_epoch))"
   ]
  }
 ],
 "metadata": {
  "kernelspec": {
   "display_name": "conda_pytorch_p27",
   "language": "python",
   "name": "conda_pytorch_p27"
  },
  "language_info": {
   "codemirror_mode": {
    "name": "ipython",
    "version": 2
   },
   "file_extension": ".py",
   "mimetype": "text/x-python",
   "name": "python",
   "nbconvert_exporter": "python",
   "pygments_lexer": "ipython2",
   "version": "2.7.16"
  }
 },
 "nbformat": 4,
 "nbformat_minor": 5
}
